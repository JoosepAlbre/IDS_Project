{
  "nbformat": 4,
  "nbformat_minor": 0,
  "metadata": {
    "colab": {
      "name": "Model",
      "provenance": [],
      "collapsed_sections": [],
      "include_colab_link": true
    },
    "kernelspec": {
      "name": "python3",
      "display_name": "Python 3"
    }
  },
  "cells": [
    {
      "cell_type": "markdown",
      "metadata": {
        "id": "view-in-github",
        "colab_type": "text"
      },
      "source": [
        "<a href=\"https://colab.research.google.com/github/JoosepAlbre/IDS_Project/blob/main/Model.ipynb\" target=\"_parent\"><img src=\"https://colab.research.google.com/assets/colab-badge.svg\" alt=\"Open In Colab\"/></a>"
      ]
    },
    {
      "cell_type": "code",
      "metadata": {
        "id": "-ex9O-Wv6HYQ"
      },
      "source": [
        "import pandas as pd\r\n",
        "\r\n",
        "url = 'https://raw.githubusercontent.com/JoosepAlbre/IDS_Project/main/model.csv'\r\n",
        "data = pd.read_csv(url)"
      ],
      "execution_count": 262,
      "outputs": []
    },
    {
      "cell_type": "code",
      "metadata": {
        "colab": {
          "base_uri": "https://localhost:8080/"
        },
        "id": "2fcdcuLWANh6",
        "outputId": "318616b2-8a2f-4346-dd2c-11ccc416fb9d"
      },
      "source": [
        "#Original length\r\n",
        "length = len(data)\r\n",
        "\r\n",
        "#Drop column index 0 and row with 'unknown' sex\r\n",
        "data = data.drop(data.columns[0], axis=1)\r\n",
        "data = data.drop(data[data.Sex == \"Unknown\"].index)\r\n",
        "\r\n",
        "#DropNa\r\n",
        "data = data.dropna()\r\n",
        "\r\n",
        "data = data[['Age', 'Sex', 'Race', 'Fentanyl', 'Heroin', 'Benzodiazepine', 'AnyOpioid', 'Cocaine', 'DeathCity']]\r\n",
        "print(data.columns)\r\n",
        "\r\n",
        "# Remove multiple race intenticators\r\n",
        "index = 0\r\n",
        "for i in data['Race']:\r\n",
        "  if \",\" in str(i):\r\n",
        "    race = i.split(',')[0]\r\n",
        "    data.iloc[index, data.columns.get_loc('Race')] = race\r\n",
        "  index += 1\r\n",
        "\r\n",
        "#Remove instances with rare race occurances\r\n",
        "data = data.loc[~( (data['Race'] != 'White') & (data['Race'] != 'Black') & (data['Race'] != 'Hispanic') ),:]\r\n",
        "\r\n",
        "data[\"COD_Drug\"] = 0\r\n",
        "columns = data.columns\r\n",
        "\r\n",
        "#Find COD_Drug\r\n",
        "for i in range(length):\r\n",
        "  for j in range (3, 8):\r\n",
        "    element = data[columns[j]].get(i)\r\n",
        "\r\n",
        "    if element == 1:\r\n",
        "      if data['COD_Drug'][i] == 0:\r\n",
        "        data['COD_Drug'][i] = str(j)\r\n",
        "        break\r\n",
        "\r\n",
        "\r\n",
        "data['Race'].value_counts()\r\n",
        "data['COD_Drug'].value_counts()\r\n",
        "\r\n",
        "#print(data['COD_Drug'].value_counts())\r\n",
        "data = data.drop(data.columns[[3,4,5,6,7]], axis=1)"
      ],
      "execution_count": 263,
      "outputs": [
        {
          "output_type": "stream",
          "text": [
            "Index(['Age', 'Sex', 'Race', 'Fentanyl', 'Heroin', 'Benzodiazepine',\n",
            "       'AnyOpioid', 'Cocaine', 'DeathCity'],\n",
            "      dtype='object')\n"
          ],
          "name": "stdout"
        },
        {
          "output_type": "stream",
          "text": [
            "/usr/local/lib/python3.6/dist-packages/ipykernel_launcher.py:35: SettingWithCopyWarning: \n",
            "A value is trying to be set on a copy of a slice from a DataFrame\n",
            "\n",
            "See the caveats in the documentation: https://pandas.pydata.org/pandas-docs/stable/user_guide/indexing.html#returning-a-view-versus-a-copy\n"
          ],
          "name": "stderr"
        }
      ]
    },
    {
      "cell_type": "code",
      "metadata": {
        "colab": {
          "base_uri": "https://localhost:8080/"
        },
        "id": "Bymo4K7jMKgE",
        "outputId": "a0c119af-d75c-4488-996a-292c78d4f38d"
      },
      "source": [
        "#Creating a RFC model\r\n",
        "from sklearn.ensemble import RandomForestClassifier\r\n",
        "from sklearn.neighbors import KNeighborsClassifier\r\n",
        "from sklearn.model_selection import train_test_split\r\n",
        "from sklearn.metrics import accuracy_score\r\n",
        "from sklearn.svm import SVC\r\n",
        "\r\n",
        "\r\n",
        "#Change categorical values to binary\r\n",
        "data_dum = pd.get_dummies(data, columns=[\"Race\", 'DeathCity'])\r\n",
        "\r\n",
        "\r\n",
        "#Divide the dataset to test and train set\r\n",
        "X_train, X_test, y_train, y_test = train_test_split(data_dum.loc[:, data_dum.columns != 'COD_Drug'], data_dum['COD_Drug'], test_size=0.3)\r\n",
        "\r\n",
        "\r\n",
        "###### (Semi-Failed)  Balanced dataset\r\n",
        "least_ODs = (data_dum['COD_Drug'] == 6).sum() #Number of lowest death causing substance ODs\r\n",
        "fentanyl = data_dum[data['COD_Drug'] == 3].sample(least_ODs)\r\n",
        "heroin = data_dum[data['COD_Drug'] == 4].sample(least_ODs)\r\n",
        "benzo = data_dum[data['COD_Drug'] == 5].sample(least_ODs)\r\n",
        "anyOpioid = data_dum[data['COD_Drug'] == 6]\r\n",
        "cocaine = data_dum[data['COD_Drug'] == 7].sample(least_ODs)\r\n",
        "other = data_dum[data['COD_Drug'] == 0].sample(least_ODs)\r\n",
        "\r\n",
        "train_bal = pd.concat([fentanyl, heroin, benzo, anyOpioid, cocaine, other])\r\n",
        "\r\n",
        "X_train_bal = train_bal.loc[:, train_bal.columns != 'COD_Drug']\r\n",
        "y_train_bal = train_bal['COD_Drug']\r\n",
        "\r\n",
        "rf_bal = RandomForestClassifier(n_estimators=100, max_depth=4, random_state=0).fit(X_train_bal, y_train_bal)\r\n",
        "cod_pred_bal = rf_bal.predict(X_test)\r\n",
        "acc_bal = accuracy_score(y_test, cod_pred_bal)\r\n",
        "print(\"(Should have been a) Balanced : \" + str(acc_bal))\r\n",
        "######\r\n",
        "\r\n",
        "# Train the model\r\n",
        "rf = RandomForestClassifier(n_estimators=1000, max_depth=5).fit(X_train, y_train)\r\n",
        "knn = KNeighborsClassifier(n_neighbors = 99).fit(X_train, y_train)\r\n",
        "svc = SVC(kernel = 'poly', degree = 2, gamma = 'auto').fit(X_train, y_train)\r\n",
        "\r\n",
        "# Predict\r\n",
        "rf_pred = rf.predict(X_test)\r\n",
        "knn_pred = knn.predict(X_test)\r\n",
        "svc_pred = svc.predict(X_test)\r\n",
        "\r\n",
        "# Find the accuracy\r\n",
        "acc_rf = accuracy_score(y_test, rf_pred)\r\n",
        "acc_knn = accuracy_score(y_test, knn_pred)\r\n",
        "acc_svc = accuracy_score(y_test, svm_pred)\r\n",
        "\r\n",
        "print(\"ACCURACY: \\n rf: \" + str(acc_rf) + \"\\n knn: \" + str(acc_knn)  + \"\\n svm: \" + str(acc_svc))\r\n",
        "\r\n",
        "accuracys = [acc_bal, acc_rf, acc_knn, acc_svc]\r\n",
        "\r\n",
        "acc = pd.DataFrame(columns=['Name', 'Accuracy'])\r\n",
        "acc = acc.append({'Name': 'Random Forest Classifier', 'Accuracy': acc_rf},ignore_index=True)\r\n",
        "acc = acc.append({'Name': 'Random Forest on balanced data', 'Accuracy': acc_bal},ignore_index=True)\r\n",
        "acc = acc.append({'Name': 'K-Nearest Neighbours', 'Accuracy': acc_knn},ignore_index=True)\r\n",
        "acc = acc.append({'Name': 'C-Support Vector Classification', 'Accuracy': acc_svc},ignore_index=True)\r\n",
        "\r\n",
        "print(acc)\r\n"
      ],
      "execution_count": 264,
      "outputs": [
        {
          "output_type": "stream",
          "text": [
            "(Should have been a) Balanced : 0.3136212624584718\n",
            "ACCURACY: \n",
            " rf: 0.45382059800664454\n",
            " knn: 0.4485049833887043\n",
            " svm: 0.45382059800664454\n",
            "                              Name  Accuracy\n",
            "0         Random Forest Classifier  0.453821\n",
            "1   Random Forest on balanced data  0.313621\n",
            "2             K-Nearest Neighbours  0.448505\n",
            "3  C-Support Vector Classification  0.453821\n"
          ],
          "name": "stdout"
        }
      ]
    }
  ]
}